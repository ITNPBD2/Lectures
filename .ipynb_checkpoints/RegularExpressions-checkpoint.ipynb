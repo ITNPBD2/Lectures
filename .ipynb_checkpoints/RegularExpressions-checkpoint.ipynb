{
 "cells": [
  {
   "cell_type": "markdown",
   "metadata": {
    "collapsed": true,
    "deletable": true,
    "editable": true
   },
   "source": [
    "# Regular Expressions\n",
    "- Why regex are required?\n",
    "- How to use regex?\n",
    "- [https://regexr.com](https://regexr.com)"
   ]
  },
  {
   "cell_type": "markdown",
   "metadata": {
    "deletable": true,
    "editable": true
   },
   "source": [
    "# What is Regular Expression?\n",
    "\n",
    "Regular expression is a group of characters or symbols which is used to find a specific pattern from a text.\n",
    "\n",
    "Regular expression is used for \n",
    "- replacing a text within a string\n",
    "- validating form\n",
    "- extract a substring from a string based upon a pattern match\n",
    "- and so much more."
   ]
  },
  {
   "cell_type": "markdown",
   "metadata": {
    "deletable": true,
    "editable": true
   },
   "source": [
    "Imagine you are writing an application and you want to set the rules for when a user chooses their **username**. We want to allow the username to contain letters, numbers, underscores and hyphens. We also want to limit the number of characters in username so it does not look ugly. We use the following regular expression to validate a username\n",
    "\n",
    "![image](regexp-en.png)"
   ]
  },
  {
   "cell_type": "markdown",
   "metadata": {
    "deletable": true,
    "editable": true
   },
   "source": [
    "## Example Applications\n",
    "- Searching\n",
    "    - Find all the email addresses in a file\n",
    "    – Find all the words that have a suffix \"ing\"\n",
    "- Validation\n",
    "    - Check an email address matches the required format \n",
    "- Manipulation\n",
    "    - Remove certain characters\n",
    "    – Change a=1,b=2,c=3 to {\"a\":1,\"b\":2,\"c\":3}"
   ]
  },
  {
   "cell_type": "markdown",
   "metadata": {
    "deletable": true,
    "editable": true
   },
   "source": [
    "# Basic Matchers\n",
    "A regular expression is just a pattern of characters that we use to perform search in a text.  For example, the regular expression `the` means: the letter `t`, followed by the letter `h`, followed by the letter `e`.\n",
    "\n",
    "<pre>\n",
    "\"the\" => The fat cat sat on <a href=\"#learn-regex\"><strong>the</strong></a> mat.\n",
    "</pre>\n",
    "\n",
    "Regular\n",
    "expressions are normally case-sensitive so the regular expression `The` would\n",
    "not match the string `the`.\n",
    "\n",
    "<pre>\n",
    "\"The\" => <a href=\"#learn-regex\"><strong>The</strong></a> fat cat sat on the mat.\n",
    "</pre>\n"
   ]
  },
  {
   "cell_type": "markdown",
   "metadata": {
    "deletable": true,
    "editable": true
   },
   "source": [
    "# Meta Characters\n",
    "## \\ ^ $ . | > * + ( ) [] { }\n",
    "\n",
    "Meta characters are the building blocks of the regular expressions.  Meta\n",
    "characters do not stand for themselves but instead are interpreted in some\n",
    "special way. Some meta characters have a special meaning and are written inside\n",
    "square brackets. The meta characters are as follows:\n",
    "\n",
    "|Meta character|Description|\n",
    "|:----:|:----|\n",
    "|.|Period matches any single character except a line break.|\n",
    "|[ ]|Character class. Matches any character contained between the square brackets.|\n",
    "|[^ ]|Negated character class. Matches any character that is not contained between the square brackets|\n",
    "|*|Matches 0 or more repetitions of the preceding symbol.|\n",
    "|+|Matches 1 or more repetitions of the preceding symbol.\n",
    "|?|Makes the preceding symbol optional.|\n",
    "|{n,m}|Braces. Matches at least \"n\" but not more than \"m\" repetitions of the preceding symbol.|\n",
    "|(xyz)|Character group. Matches the characters xyz in that exact order.|\n",
    "|&#124;|Alternation. Matches either the characters before or the characters after the symbol.|\n",
    "|^|Matches the beginning of the input.|\n",
    "|$|Matches the end of the input.|"
   ]
  },
  {
   "cell_type": "markdown",
   "metadata": {
    "deletable": true,
    "editable": true
   },
   "source": [
    "## 1. Full stop\n",
    "\n",
    "Full stop `.` is the simplest example of meta character. The meta character `.`\n",
    "matches any single character except newline characters.\n",
    "\n",
    "For example, the regular expression `.ar` means: any character, followed by the\n",
    "letter `a`, followed by the letter `r`.\n",
    "\n",
    "<pre>\n",
    "\".ar\" => The <a href=\"#learn-regex\"><strong>car</strong></a> <a href=\"#learn-regex\"><strong>par</strong></a>ked in the <a href=\"#learn-regex\"><strong>gar</strong></a>age.\n",
    "</pre>\n",
    "\n",
    "[Test the regular expression](https://regex101.com/r/xc9GkU/1)"
   ]
  },
  {
   "cell_type": "markdown",
   "metadata": {
    "deletable": true,
    "editable": true
   },
   "source": [
    "## 2. Character set\n",
    "\n",
    "Character sets are also called character class. Square brackets are used to\n",
    "specify character sets. Use a hyphen inside a character set to specify the\n",
    "characters' range. The order of the character range inside square brackets\n",
    "doesn't matter. For example, the regular expression `[Tt]he` means: an uppercase\n",
    "`T` or lowercase `t`, followed by the letter `h`, followed by the letter `e`.\n",
    "\n",
    "<pre>\n",
    "\"[Tt]he\" => <a href=\"#learn-regex\"><strong>The</strong></a> car parked in <a href=\"#learn-regex\"><strong>the</strong></a> garage.\n",
    "</pre>\n",
    "\n",
    "[Test the regular expression](https://regex101.com/r/2ITLQ4/1)\n",
    "\n",
    "## 2.1 Negated character set\n",
    "\n",
    "In general, the caret symbol represents the start of the string, but when it is\n",
    "typed after the opening square bracket it negates the character set. For\n",
    "example, the regular expression `[^c]ar` means: any character except `c`,\n",
    "followed by the character `a`, followed by the letter `r`.\n",
    "\n",
    "<pre>\n",
    "\"[^c]ar\" => The car <a href=\"#learn-regex\"><strong>par</strong></a>ked in the <a href=\"#learn-regex\"><strong>gar</strong></a>age.\n",
    "</pre>\n",
    "\n",
    "[Test the regular expression](https://regex101.com/r/nNNlq3/1)"
   ]
  },
  {
   "cell_type": "markdown",
   "metadata": {
    "deletable": true,
    "editable": true
   },
   "source": [
    "# 3. Repetitions\n",
    "Following meta characters `+`, `*` or `?` are used to specify how many times a subpattern can occur. These meta characters act differently in different situations.\n",
    "\n",
    "### 3.1 The Star\n",
    "\n",
    "The symbol `*` matches zero or more repetitions of the preceding matcher. The\n",
    "regular expression `a*` means: zero or more repetitions of preceding lowercase\n",
    "character `a`. But if it appears after a character set or class then it finds\n",
    "the repetitions of the whole character set. For example, the regular expression\n",
    "`[a-z]*` means: any number of lowercase letters in a row.\n",
    "\n",
    "<pre>\n",
    "\"[a-z]*\" => T<a href=\"#learn-regex\"><strong>he</strong></a> <a href=\"#learn-regex\"><strong>car</strong></a> <a href=\"#learn-regex\"><strong>parked</strong></a> <a href=\"#learn-regex\"><strong>in</strong></a> <a href=\"#learn-regex\"><strong>the</strong></a> <a href=\"#learn-regex\"><strong>garage</strong></a> #21.\n",
    "</pre>\n",
    "\n",
    "[Test the regular expression](https://regex101.com/r/7m8me5/1)\n",
    "\n",
    "The `*` symbol can be used with the meta character `.` to match any string of\n",
    "characters `.*`. The `*` symbol can be used with the whitespace character `\\s`\n",
    "to match a string of whitespace characters. For example, the expression\n",
    "`\\s*cat\\s*` means: zero or more spaces, followed by lowercase character `c`,\n",
    "followed by lowercase character `a`, followed by lowercase character `t`,\n",
    "followed by zero or more spaces.\n",
    "\n",
    "<pre>\n",
    "\"\\s*cat\\s*\" => The fat<a href=\"#learn-regex\"><strong> cat </strong></a>sat on the <a href=\"#learn-regex\">con<strong>cat</strong>enation</a>.\n",
    "</pre>\n",
    "\n",
    "[Test the regular expression](https://regex101.com/r/gGrwuz/1)\n",
    "\n",
    "### 3.2 The Plus\n",
    "\n",
    "The symbol `+` matches one or more repetitions of the preceding character. For\n",
    "example, the regular expression `c.+t` means: lowercase letter `c`, followed by\n",
    "at least one character, followed by the lowercase character `t`. It needs to be\n",
    "clarified that `t` is the last `t` in the sentence.\n",
    "\n",
    "<pre>\n",
    "\"c.+t\" => The fat <a href=\"#learn-regex\"><strong>cat sat on the mat</strong></a>.\n",
    "</pre>\n",
    "\n",
    "[Test the regular expression](https://regex101.com/r/Dzf9Aa/1)\n",
    "\n",
    "### 3.3 The Question Mark\n",
    "\n",
    "In regular expression the meta character `?` makes the preceding character\n",
    "optional. This symbol matches zero or one instance of the preceding character.\n",
    "For example, the regular expression `[T]?he` means: Optional the uppercase\n",
    "letter `T`, followed by the lowercase character `h`, followed by the lowercase\n",
    "character `e`.\n",
    "\n",
    "<pre>\n",
    "\"[T]he\" => <a href=\"#learn-regex\"><strong>The</strong></a> car is parked in the garage.\n",
    "</pre>\n",
    "\n",
    "[Test the regular expression](https://regex101.com/r/cIg9zm/1)\n",
    "\n",
    "<pre>\n",
    "\"[T]?he\" => <a href=\"#learn-regex\"><strong>The</strong></a> car is parked in t<a href=\"#learn-regex\"><strong>he</strong></a> garage.\n",
    "</pre>\n",
    "\n",
    "[Test the regular expression](https://regex101.com/r/kPpO2x/1)"
   ]
  },
  {
   "cell_type": "markdown",
   "metadata": {
    "deletable": true,
    "editable": true
   },
   "source": [
    "## 4 Braces\n",
    "\n",
    "In regular expression braces that are also called quantifiers are used to\n",
    "specify the number of times that a character or a group of characters can be\n",
    "repeated. For example, the regular expression `[0-9]{2,3}` means: Match at least\n",
    "2 digits but not more than 3 ( characters in the range of 0 to 9).\n",
    "\n",
    "<pre>\n",
    "\"[0-9]{2,3}\" => The number was 9.<a href=\"#learn-regex\"><strong>999</strong></a>7 but we rounded it off to <a href=\"#learn-regex\"><strong>10</strong></a>.0.\n",
    "</pre>\n",
    "\n",
    "[Test the regular expression](https://regex101.com/r/juM86s/1)\n",
    "\n",
    "We can leave out the second number. For example, the regular expression\n",
    "`[0-9]{2,}` means: Match 2 or more digits. If we also remove the comma the\n",
    "regular expression `[0-9]{3}` means: Match exactly 3 digits.\n",
    "\n",
    "<pre>\n",
    "\"[0-9]{2,}\" => The number was 9.<a href=\"#learn-regex\"><strong>9997</strong></a> but we rounded it off to <a href=\"#learn-regex\"><strong>10</strong></a>.0.\n",
    "</pre>\n",
    "\n",
    "[Test the regular expression](https://regex101.com/r/Gdy4w5/1)\n",
    "\n",
    "<pre>\n",
    "\"[0-9]{3}\" => The number was 9.<a href=\"#learn-regex\"><strong>999</strong></a>7 but we rounded it off to 10.0.\n",
    "</pre>\n",
    "\n",
    "[Test the regular expression](https://regex101.com/r/Sivu30/1)\n",
    "\n",
    "## 5 Character Group\n",
    "\n",
    "Character group is a group of sub-patterns that is written inside Parentheses `(...)`.\n",
    "As we discussed before that in regular expression if we put a quantifier after a\n",
    "character then it will repeat the preceding character. But if we put quantifier\n",
    "after a character group then it repeats the whole character group. For example,\n",
    "the regular expression `(ab)*` matches zero or more repetitions of the character\n",
    "\"ab\". We can also use the alternation `|` meta character inside character group.\n",
    "For example, the regular expression `(c|g|p)ar` means: lowercase character `c`,\n",
    "`g` or `p`, followed by character `a`, followed by character `r`.\n",
    "\n",
    "<pre>\n",
    "\"(c|g|p)ar\" => The <a href=\"#learn-regex\"><strong>car</strong></a> is <a href=\"#learn-regex\"><strong>par</strong></a>ked in the <a href=\"#learn-regex\"><strong>gar</strong></a>age.\n",
    "</pre>\n",
    "\n",
    "[Test the regular expression](https://regex101.com/r/tUxrBG/1)\n",
    "\n",
    "## 6 Alternation\n",
    "\n",
    "In regular expression Vertical bar `|` is used to define alternation.\n",
    "Alternation is like a condition between multiple expressions. Now, you may be\n",
    "thinking that character set and alternation works the same way. But the big\n",
    "difference between character set and alternation is that character set works on\n",
    "character level but alternation works on expression level. For example, the\n",
    "regular expression `(T|t)he|car` means: uppercase character `T` or lowercase\n",
    "`t`, followed by lowercase character `h`, followed by lowercase character `e` or\n",
    "lowercase character `c`, followed by lowercase character `a`, followed by\n",
    "lowercase character `r`.\n",
    "\n",
    "<pre>\n",
    "\"(T|t)he|car\" => <a href=\"#learn-regex\"><strong>The</strong></a> <a href=\"#learn-regex\"><strong>car</strong></a> is parked in <a href=\"#learn-regex\"><strong>the</strong></a> garage.\n",
    "</pre>\n",
    "\n",
    "[Test the regular expression](https://regex101.com/r/fBXyX0/1)\n",
    "\n",
    "## 7 Escaping special character\n",
    "\n",
    "Backslash `\\` is used in regular expression to escape the next character. This\n",
    "allows us to specify a symbol as a matching character including reserved\n",
    "characters `{ } [ ] / \\ + * . $ ^ | ?`. To use a special character as a matching\n",
    "character prepend `\\` before it.\n",
    "\n",
    "For example, the regular expression `.` is used to match any character except\n",
    "newline. Now to match `.` in an input string the regular expression\n",
    "`(f|c|m)at\\.?` means: lowercase letter `f`, `c` or `m`, followed by lowercase\n",
    "character `a`, followed by lowercase letter `t`, followed by optional `.`\n",
    "character.\n",
    "\n",
    "<pre>\n",
    "\"(f|c|m)at\\.?\" => The <a href=\"#learn-regex\"><strong>fat</strong></a> <a href=\"#learn-regex\"><strong>cat</strong></a> sat on the <a href=\"#learn-regex\"><strong>mat.</strong></a>\n",
    "</pre>\n",
    "\n",
    "[Test the regular expression](https://regex101.com/r/DOc5Nu/1)\n",
    "\n",
    "## 8 Anchors\n",
    "\n",
    "In regular expressions, we use anchors to check if the matching symbol is the\n",
    "starting symbol or ending symbol of the input string. Anchors are of two types:\n",
    "First type is Caret `^` that check if the matching character is the start\n",
    "character of the input and the second type is Dollar `$` that checks if matching\n",
    "character is the last character of the input string.\n",
    "\n",
    "### 8.1 Caret\n",
    "\n",
    "Caret `^` symbol is used to check if matching character is the first character\n",
    "of the input string. If we apply the following regular expression `^a` (if a is\n",
    "the starting symbol) to input string `abc` it matches `a`. But if we apply\n",
    "regular expression `^b` on above input string it does not match anything.\n",
    "Because in input string `abc` \"b\" is not the starting symbol. Let's take a look\n",
    "at another regular expression `^(T|t)he` which means: uppercase character `T` or\n",
    "lowercase character `t` is the start symbol of the input string, followed by\n",
    "lowercase character `h`, followed by lowercase character `e`.\n",
    "\n",
    "<pre>\n",
    "\"(T|t)he\" => <a href=\"#learn-regex\"><strong>The</strong></a> car is parked in <a href=\"#learn-regex\"><strong>the</strong></a> garage.\n",
    "</pre>\n",
    "\n",
    "[Test the regular expression](https://regex101.com/r/5ljjgB/1)\n",
    "\n",
    "<pre>\n",
    "\"^(T|t)he\" => <a href=\"#learn-regex\"><strong>The</strong></a> car is parked in the garage.\n",
    "</pre>\n",
    "\n",
    "[Test the regular expression](https://regex101.com/r/jXrKne/1)\n",
    "\n",
    "### 8.2 Dollar\n",
    "\n",
    "Dollar `$` symbol is used to check if matching character is the last character\n",
    "of the input string. For example, regular expression `(at\\.)$` means: a\n",
    "lowercase character `a`, followed by lowercase character `t`, followed by a `.`\n",
    "character and the matcher must be end of the string.\n",
    "\n",
    "<pre>\n",
    "\"(at\\.)\" => The fat c<a href=\"#learn-regex\"><strong>at.</strong></a> s<a href=\"#learn-regex\"><strong>at.</strong></a> on the m<a href=\"#learn-regex\"><strong>at.</strong></a>\n",
    "</pre>\n",
    "\n",
    "[Test the regular expression](https://regex101.com/r/y4Au4D/1)\n",
    "\n",
    "<pre>\n",
    "\"(at\\.)$\" => The fat cat. sat. on the m<a href=\"#learn-regex\"><strong>at.</strong></a>\n",
    "</pre>\n",
    "\n",
    "[Test the regular expression](https://regex101.com/r/t0AkOd/1)"
   ]
  },
  {
   "cell_type": "markdown",
   "metadata": {
    "deletable": true,
    "editable": true
   },
   "source": [
    "## RegEx in Python\n",
    "``` python\n",
    "import re\n",
    "re.search() #find a match anywhere in the string\n",
    "re.match() #only try to match at start of string\n",
    "re.findall() #find all matches and return as a list\n",
    "re.split() #like string.split() but a regex pattern\n",
    "```\n",
    "\n",
    "- Backslashes also mean something in Python strings, so used raw string for tidiness: `r\"\\d+\"`\n",
    "- The r doesn't change the type at all, it just changes how the string literal is interpreted. Without the r, backslashes are treated as escape characters. With the r, backslashes are treated as literal. Either way, the type is the same."
   ]
  },
  {
   "cell_type": "markdown",
   "metadata": {
    "deletable": true,
    "editable": true
   },
   "source": [
    "##  3. Shorthand Character Sets\n",
    "\n",
    "Regular expression provides shorthands for the commonly used character sets,\n",
    "which offer convenient shorthands for commonly used regular expressions. The\n",
    "shorthand character sets are as follows:\n",
    "\n",
    "|Shorthand|Description|\n",
    "|:----:|:----|\n",
    "|.|Any character except new line|\n",
    "|\\w|Matches alphanumeric characters: `[a-zA-Z0-9_]`|\n",
    "|\\W|Matches non-alphanumeric characters: `[^\\w]`|\n",
    "|\\d|Matches digit: `[0-9]`|\n",
    "|\\D|Matches non-digit: `[^\\d]`|\n",
    "|\\s|Matches whitespace character: `[\\t\\n\\f\\r\\p{Z}]`|\n",
    "|\\S|Matches non-whitespace character: `[^\\s]`|\n",
    "\n",
    "\n",
    "# Lookaround\n",
    "\n",
    "Lookbehind and lookahead (also called lookaround) are specific types of\n",
    "***non-capturing groups*** (Used to match the pattern but not included in matching\n",
    "list). Lookaheads are used when we have the condition that this pattern is\n",
    "preceded or followed by another certain pattern. For example, we want to get all\n",
    "numbers that are preceded by `$` character from the following input string\n",
    "`$4.44 and $10.88`. \n",
    "\n",
    "We will use following regular expression \n",
    "\n",
    "`(?<=\\$)[0-9\\.]*`\n",
    "\n",
    "which means: get all the numbers which contain `.` character and  are preceded\n",
    "by `$` character. Following are the lookarounds that are used in regular\n",
    "expressions:\n",
    "\n",
    "|Symbol|Description|\n",
    "|:----:|----|\n",
    "|?=|Positive Lookahead|\n",
    "|?!|Negative Lookahead|\n",
    "|?<=|Positive Lookbehind|\n",
    "|?<!|Negative Lookbehind|\n",
    "\n",
    "## Positive Lookahead\n",
    "\n",
    "The positive lookahead asserts that the first part of the expression must be\n",
    "followed by the lookahead expression. The returned match only contains the text\n",
    "that is matched by the first part of the expression. To define a positive\n",
    "lookahead, parentheses are used. Within those parentheses, a question mark with\n",
    "equal sign is used like this: `(?=...)`. Lookahead expression is written after\n",
    "the equal sign inside parentheses. For example, the regular expression\n",
    "`(T|t)he(?=\\sfat)` means: optionally match lowercase letter `t` or uppercase\n",
    "letter `T`, followed by letter `h`, followed by letter `e`. In parentheses we\n",
    "define positive lookahead which tells regular expression engine to match `The`\n",
    "or `the` which are followed by the word `fat`.\n",
    "\n",
    "<pre>\n",
    "\"(T|t)he(?=\\sfat)\" => <a href=\"#learn-regex\"><strong>The</strong></a> fat cat sat on the mat.\n",
    "</pre>\n",
    "\n",
    "[Test the regular expression](https://regex101.com/r/IDDARt/1)\n",
    "\n",
    "## Negative Lookahead\n",
    "\n",
    "Negative lookahead is used when we need to get all matches from input string\n",
    "that are not followed by a pattern. Negative lookahead is defined same as we define\n",
    "positive lookahead but the only difference is instead of equal `=` character we\n",
    "use negation `!` character i.e. `(?!...)`. Let's take a look at the following\n",
    "regular expression `(T|t)he(?!\\sfat)` which means: get all `The` or `the` words\n",
    "from input string that are not followed by the word `fat` precedes by a space\n",
    "character.\n",
    "\n",
    "<pre>\n",
    "\"(T|t)he(?!\\sfat)\" => The fat cat sat on <a href=\"#learn-regex\"><strong>the</strong></a> mat.\n",
    "</pre>\n",
    "\n",
    "[Test the regular expression](https://regex101.com/r/V32Npg/1)"
   ]
  },
  {
   "cell_type": "code",
   "execution_count": 5,
   "metadata": {
    "collapsed": false,
    "deletable": true,
    "editable": true
   },
   "outputs": [
    {
     "name": "stdout",
     "output_type": "stream",
     "text": [
      "String matched by RegEx is: br\n",
      "Matched string is: br\n"
     ]
    }
   ],
   "source": [
    "import re\n",
    "quickFox = \"The quick brown fox jumps over the 2 lazy dogs\"\n",
    "\n",
    "### Syntax 1\n",
    "result = re.search(\"b.\", quickFox)\n",
    "#group() Return the string matched by the RE\n",
    "print(\"String matched by RegEx is: \"+ result.group())\n",
    "\n",
    "\n",
    "### Syntax 2\n",
    "expr = re.compile(\"b.\")\n",
    "result = expr.search(quickFox)\n",
    "if (expr.search(quickFox)):\n",
    "    print(\"Matched string is: \"+result.group())"
   ]
  },
  {
   "cell_type": "markdown",
   "metadata": {
    "deletable": true,
    "editable": true
   },
   "source": [
    "## Use flags to modify pattern matching:\n",
    "- re.DOTALL: Make . match any character, including newlines\n",
    "- re.IGNORECASE: Do case-insensitive matches"
   ]
  },
  {
   "cell_type": "code",
   "execution_count": 10,
   "metadata": {
    "collapsed": false,
    "deletable": true,
    "editable": true
   },
   "outputs": [
    {
     "name": "stdout",
     "output_type": "stream",
     "text": [
      "1: 2 laz\n",
      "2: 2 laz\n",
      "3: T\n",
      "4: T\n",
      "6: \n",
      "t\n"
     ]
    }
   ],
   "source": [
    "import re\n",
    "quickfox = \"The quick brown fox jumps over\\nthe 2 lazy dogs\"\n",
    "print(\"1: \" + re.search(\"\\\\d....\", quickfox).group())\n",
    "print(\"2: \" + re.search(r\"\\d....\", quickfox).group())\n",
    "print(\"3: \" + re.search(\"T\", quickfox).group())\n",
    "print(\"4: \" + re.search(\"T\", quickfox, re.IGNORECASE).group())\n",
    "print(\"5: \" + re.search(\".T\", quickfox, re.IGNORECASE | re.DOTALL).group())\n"
   ]
  },
  {
   "cell_type": "code",
   "execution_count": 13,
   "metadata": {
    "collapsed": false,
    "deletable": true,
    "editable": true
   },
   "outputs": [
    {
     "name": "stdout",
     "output_type": "stream",
     "text": [
      "None\n"
     ]
    }
   ],
   "source": [
    "print(re.search(\".T\", quickfox, re.IGNORECASE)) ## No match found"
   ]
  },
  {
   "cell_type": "code",
   "execution_count": null,
   "metadata": {
    "collapsed": true
   },
   "outputs": [],
   "source": []
  }
 ],
 "metadata": {
  "kernelspec": {
   "display_name": "Python [default]",
   "language": "python",
   "name": "python2"
  },
  "language_info": {
   "codemirror_mode": {
    "name": "ipython",
    "version": 2
   },
   "file_extension": ".py",
   "mimetype": "text/x-python",
   "name": "python",
   "nbconvert_exporter": "python",
   "pygments_lexer": "ipython2",
   "version": "2.7.12"
  }
 },
 "nbformat": 4,
 "nbformat_minor": 2
}
