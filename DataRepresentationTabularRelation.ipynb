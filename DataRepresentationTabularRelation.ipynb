{
 "cells": [
  {
   "cell_type": "markdown",
   "metadata": {
    "collapsed": true
   },
   "source": [
    "## Data Representation 1: Tabular, relational & JSON\n",
    "\n",
    "\n",
    "\n",
    "\n",
    "- Programming languages have a rich set of data\n",
    "representations:\n",
    "    - Trees, lists, sets, arrays, dictionaries ...\n",
    "    - Objects\n",
    "- Storage options are often more limited\n",
    "- You can serialise an object, but you need to know exactly how to read the data to get the object back into memory\n",
    "- **So called Object Impedence**"
   ]
  },
  {
   "cell_type": "markdown",
   "metadata": {},
   "source": [
    "# Tabular Data\n",
    "\n",
    "- Examples: csv, spreadsheets, relational DB tables\n",
    "\n",
    "| No | Attribute 1  | Attribute 2 |\n",
    "|  :-  | ------------- | ------------- |\n",
    "| 1 | Value  | Value  |\n",
    "| 2 | Value  | Value  |\n",
    "\n",
    "- Limits the variables you can record to those with a column"
   ]
  },
  {
   "cell_type": "markdown",
   "metadata": {},
   "source": [
    "# More Flexiblility\n",
    "- Tables are fine when every entry has the same variables associated with it, for example name, address, phone number\n",
    "- They become more problematic when different entries have different variables\n",
    "- Or some entries are lists, or objects themselves"
   ]
  },
  {
   "cell_type": "markdown",
   "metadata": {},
   "source": [
    "## Relational Model\n",
    "- The relational model (see database course for\n",
    "more) solves this problem with\n",
    "    - Joins\n",
    "    - Foreign keys"
   ]
  },
  {
   "cell_type": "markdown",
   "metadata": {},
   "source": [
    "Example\n",
    "- Lets try to store the following facts\n",
    "    - Tom lives in Bridge of Allan \n",
    "    - He has three email addresses \n",
    "    - He owns a house in Causewayhead"
   ]
  },
  {
   "cell_type": "markdown",
   "metadata": {},
   "source": [
    "![table.png](table.png)\n",
    "\n",
    "```sql\n",
    "Select Name, email, Line1, Line2, Postcode FROM People, Houses, Emails, HousePeople\n",
    "WHERE People.PersonID=Houses.PersonID AND People.PersonID=HousePeople.PersonID\n",
    "AND People.PersonID=email.PersonID AND HousePeople.HouseID=Houses.HouseID\n",
    "```"
   ]
  },
  {
   "cell_type": "markdown",
   "metadata": {},
   "source": [
    "# Example\n",
    "- That works, but it is not too pretty\n",
    "- Becomes complex with very large number of columns and tables\n",
    "- How else might we store that data?\n",
    "\n",
    "# Documents - Tree Structure\n",
    "- Store data related to particular objects or subjects in documents\n",
    "- Data can be arranged into a tree structure\n",
    "- That turns out to be pretty much anything:"
   ]
  },
  {
   "cell_type": "markdown",
   "metadata": {},
   "source": [
    "# Tabular Data\n",
    "![Tab Data](tabdata.png)\n",
    "\n",
    "\n",
    "# Customer Data\n",
    "![Cust Data](custdata.png)"
   ]
  },
  {
   "cell_type": "markdown",
   "metadata": {},
   "source": [
    "# XML - eXtensible Markup Language\n",
    "- Extensible, meaning you can define your own tags e.g. \n",
    "```XML \n",
    "<name>Bob</name>\n",
    "```\n",
    "- Markup language means that data is stored and represented as text, with the structure of the data defined within the text in a way that is very general\n",
    "- Now a very commonly used standard\n",
    "- We'll come back to this in a later lecture"
   ]
  },
  {
   "cell_type": "markdown",
   "metadata": {},
   "source": [
    "# JSON\n",
    "- XML is powerful and very common\n",
    "- But it is rather large and cumbersome for some uses\n",
    "- JSON (JavaScript Object Notation) is gaining popularity as an alternative\n",
    "- Origins in JavaScript, but language independent\n",
    "\n",
    "- Hierarchy of name, value pairs\n",
    "- Limited types – string, number, object, array, true/false, null\n",
    "- See www.json.org for specification and documentation"
   ]
  },
  {
   "cell_type": "markdown",
   "metadata": {},
   "source": [
    "# JSON / XML comparison\n",
    "More compact / less verbose\n",
    "- XML\n",
    "```XML\n",
    "<person>\n",
    "<age>42</age>\n",
    "<name>Bob</name>\n",
    "</person>\n",
    "```\n",
    "\n",
    "- JSON\n",
    "```json\n",
    "{\"age\" : 42, \"name\" : \"Bob\"}\n",
    "```"
   ]
  },
  {
   "cell_type": "markdown",
   "metadata": {},
   "source": [
    "# JSON Structure\n",
    "![JSON](json.png)\n",
    "\n",
    "# JSON Object\n",
    "- A JSON object in its simplest form is a set of name:value pairs\n",
    "- An object is enclosed in { } braces\n",
    "- The name part is a string, so enclosed in “”\n",
    "- The colon means equals\n",
    "- The value can be a single value or an array of values\n",
    "- Values can be objects themselves\n"
   ]
  },
  {
   "cell_type": "markdown",
   "metadata": {},
   "source": [
    "# Array\n",
    "- Examples\n",
    "```python\n",
    "[\"Fish\",2,3] #Strings and numbers\n",
    "[[1,2,3],[3,4,5]] #Array of arrays\n",
    "[{\"Name\": \"Mandar\"},{\"email\": \"mgo\"}] #Array of dictionaries\n",
    "```\n",
    "- Can be of mixed type – but this won't work if parsing using languages like Java"
   ]
  },
  {
   "cell_type": "markdown",
   "metadata": {},
   "source": [
    "# Value\n",
    "- String \n",
    "    - Like a Java string \n",
    "    - \"Enclosed in double quotes\" \n",
    "    - Escaped with \\\n",
    "- Number – No more specific types such as int, float\n",
    "- also no infinity / not-a-number\n",
    "- Object – An embedded JSON object\n",
    "- Array – An array of values\n",
    "- true / false (must be lowercase)\n",
    "- null\n",
    "\n",
    "# Example\n",
    "\n",
    "``` json\n",
    "{\n",
    "\"Name\": \"Tom\",\n",
    "\"Email\": [\"tom@home\",\"tom@work\",\"tom@gmail\"],\n",
    "\"Address\": [{\"Line1\": \"1 High St\",\"Line2\": \"Bridge of Allan\", \"Postcode\": \"FK9 4LA\"}, {\"Line1\": \"1 Wallace St\",\"Line2\": \"Causewayhead\", \"Postcode\": \"FK9 5QW\"}]\n",
    "}\n",
    "```"
   ]
  },
  {
   "cell_type": "markdown",
   "metadata": {},
   "source": [
    "# JSON web services 1 \n",
    "## IP + location\n",
    "[http://www.telize.com](http://www.telize.com)\n",
    "```JSON\n",
    "{\"dma_code\":\"0\",\"ip\":\"139.153.253.xxx\",\"asn\":\"AS786\",\"city\":\"Stirling\",\"latitude\":56.1167,\"country_code\":\"GB\",\"offset\":\"2\",\"country\":\"United Kingdom\",\"region_code\":\"W6\",\"isp\":\"Jisc Services Limited\",\"timezone\":\"Africa\\/Gaborone\",\"area_code\":\"0\",\"continent_code\":\"EU\",\"longitude\":-\n",
    "3.95,\"region\":\"Stirling\",\"postal_code\":\"FK8\",\"country_code3\":\"GBR\"}\n",
    "```"
   ]
  },
  {
   "cell_type": "markdown",
   "metadata": {},
   "source": [
    "# JSON web services 2 \n",
    "## True random numbers\n",
    "[https://qrng.anu.edu.au/API/jsonI.php?length=10&type=uint8](https://qrng.anu.edu.au/API/jsonI.php?length=10&type=uint8)\n",
    "```JSON\n",
    "{\"type\":\"uint8\",\"length\":10,\"data\":[172,239,129,170,254,35,235,33,2,229],\"success\":true}\n",
    "```"
   ]
  },
  {
   "cell_type": "markdown",
   "metadata": {},
   "source": [
    "## JSON Schema\n",
    "- Allows formal definition of the structure for JSON documents, good for interoperability\n",
    "- JSON schema definition is a JSON document\n",
    "- Specification currently in draft but already available for use\n",
    "- More details and documentation available at http://json-schema.org\n",
    "- Validator at http://jsonschemalint.com"
   ]
  },
  {
   "cell_type": "markdown",
   "metadata": {},
   "source": [
    "![JSONScheme](JSONSchema.png)"
   ]
  },
  {
   "cell_type": "markdown",
   "metadata": {},
   "source": [
    "# JSON in Python\n",
    "\n",
    "- Use JSON library\n",
    "- Third party libraries exist for JSON Schema\n",
    "    - Not covered here\n",
    "- Library maps types like this (bold for JSON->Python):\n",
    "\n",
    "![JSONDatatype](jsondatatype.png)"
   ]
  },
  {
   "cell_type": "markdown",
   "metadata": {},
   "source": [
    "```python\n",
    "import json\n",
    "json.load(f) # read JSON from file f\n",
    "json.loads(catData1) # read JSON from string catData1\n",
    "json.dump(catData3, f) # write dictionary catData3 as JSON to file f\n",
    "json.dump(catData3, f, indent=4) # enables \"pretty printing\", more human-readable\n",
    "s = json.dumps(catData3) # convert catData3 to JSON string s\n",
    "```"
   ]
  },
  {
   "cell_type": "markdown",
   "metadata": {},
   "source": [
    "### Contents of catadata.json\n",
    "```json\n",
    "{\n",
    "\"name\": \"Fluffy\",\n",
    "\"age\": 2,\n",
    "\"clawstrimmed\": true,\n",
    "\"friends\": [\"Spot\", \"Bob\",\"Mr. Meow\"],\n",
    "    \"address\": {\n",
    "    \"number\": \"4a\",\n",
    "    \"street\": \"Felix Street\"\n",
    "    }\n",
    "}```"
   ]
  },
  {
   "cell_type": "code",
   "execution_count": 1,
   "metadata": {},
   "outputs": [
    {
     "name": "stdout",
     "output_type": "stream",
     "text": [
      "{u'age': 2, u'friends': [u'Spot', u'Bob', u'Mr. Meow'], u'name': u'Fluffy', u'clawstrimmed': True, u'address': {u'street': u'Felix Street', u'number': u'4a'}}\n",
      "<type 'unicode'>\n",
      "Age: 2\n",
      "Stays at number: 4a\n",
      "Safe!\n",
      "Friends of Fluffy:\n",
      " Spot\n",
      " Bob\n",
      " Mr. Meow\n",
      "Full address:\n",
      " street --- Felix Street\n",
      " number --- 4a\n",
      "done\n"
     ]
    }
   ],
   "source": [
    "import json\n",
    "with open(\"catadata.json\") as f:\n",
    "    parsedCatData2 = json.load(f)\n",
    "    print(parsedCatData2)\n",
    "    print(type(parsedCatData2['name']))\n",
    "    print(\"Age: \" + str(parsedCatData2['age']))\n",
    "    print(\"Stays at number: \" + parsedCatData2['address']['number'])\n",
    "    if (parsedCatData2['clawstrimmed']):\n",
    "        print('Safe!')\n",
    "    else:\n",
    "        print('Get some gloves!')\n",
    "    print (\"Friends of \" + parsedCatData2['name'] + \":\")\n",
    "    for friend in parsedCatData2['friends']:\n",
    "        print(\" \" + friend)\n",
    "    print (\"Full address:\")\n",
    "    for name, value in parsedCatData2['address'].items():\n",
    "        print(\" \" + name + \" --- \" + value)\n",
    "    print(\"done\")"
   ]
  },
  {
   "cell_type": "code",
   "execution_count": 2,
   "metadata": {
    "collapsed": true
   },
   "outputs": [],
   "source": [
    "catadata = \"\"\"\n",
    "{\n",
    "\"name\": \"Fluffy\",\n",
    "\"age\": 2,\n",
    "\"clawstrimmed\": true,\n",
    "\"friends\": [\"Spot\", \"Bob\",\n",
    "\"Mr. Meow\"],\n",
    "\"address\": {\n",
    "\"number\": \"4a\",\n",
    "\"street\": \"Felix Street\"\n",
    "}\n",
    "}\n",
    "\"\"\""
   ]
  },
  {
   "cell_type": "code",
   "execution_count": 3,
   "metadata": {},
   "outputs": [
    {
     "name": "stdout",
     "output_type": "stream",
     "text": [
      "{u'age': 2, u'friends': [u'Spot', u'Bob', u'Mr. Meow'], u'name': u'Fluffy', u'clawstrimmed': True, u'address': {u'street': u'Felix Street', u'number': u'4a'}}\n",
      "Age: 2\n",
      "Stays at number: 4a\n",
      "Safe!\n",
      "Friends of Fluffy:\n",
      " Spot\n",
      " Bob\n",
      " Mr. Meow\n",
      "Full address:\n",
      " street --- Felix Street\n",
      " number --- 4a\n",
      "done\n"
     ]
    }
   ],
   "source": [
    "import json\n",
    "parsedCatData2 = json.loads(catadata)\n",
    "print(parsedCatData2)\n",
    "print(\"Age: \" + str(parsedCatData2['age']))\n",
    "print(\"Stays at number: \" + parsedCatData2['address']['number'])\n",
    "if (parsedCatData2['clawstrimmed']):\n",
    "    print('Safe!')\n",
    "else:\n",
    "    print('Get some gloves!')\n",
    "print (\"Friends of \" + parsedCatData2['name'] + \":\")\n",
    "for friend in parsedCatData2['friends']:\n",
    "    print(\" \" + friend)\n",
    "print (\"Full address:\")\n",
    "for name, value in parsedCatData2['address'].items():\n",
    "    print(\" \" + name + \" --- \" + value)\n",
    "print(\"done\")"
   ]
  },
  {
   "cell_type": "markdown",
   "metadata": {},
   "source": [
    "## JSON Python Example - writing"
   ]
  },
  {
   "cell_type": "code",
   "execution_count": 4,
   "metadata": {},
   "outputs": [
    {
     "name": "stdout",
     "output_type": "stream",
     "text": [
      "{\"offspring\": [\"Spot II\", \"Spot Junior\", \"Dot\"], \"age\": 3, \"name\": \"Spot\", \"clawstrimmed\": false, \"address\": {\"street\": \"Enterprise\", \"number\": \"D\"}}\n"
     ]
    }
   ],
   "source": [
    "import json\n",
    "catData3 = { 'name': 'Spot', 'age':3, 'clawstrimmed':False, \\\n",
    "'address':{'number':'D', 'street':'Enterprise'}, \\\n",
    "'offspring':('Spot II','Spot Junior','Dot') \\\n",
    "}\n",
    "print (json.dumps(catData3))\n",
    "\n",
    "with open('cat-spot.json', 'w') as f:\n",
    "    json.dump(catData3, f)"
   ]
  },
  {
   "cell_type": "code",
   "execution_count": 5,
   "metadata": {},
   "outputs": [
    {
     "name": "stdout",
     "output_type": "stream",
     "text": [
      "{\"offspring\": [\"Spot II\", \"Spot Junior\", \"Dot\"], \"age\": 3, \"name\": \"Spot\", \"clawstrimmed\": false, \"address\": {\"street\": \"Enterprise\", \"number\": \"D\"}}\n"
     ]
    }
   ],
   "source": [
    "# Let's check the file contents\n",
    "with open('cat-spot.json','r') as f:\n",
    "    for line in f:\n",
    "        print(line)"
   ]
  },
  {
   "cell_type": "markdown",
   "metadata": {},
   "source": [
    "## JSON - summary\n",
    "\n",
    "- Arguably easier for humans to read\n",
    "- Easy for programs to parse\n",
    "- Elegant and simple"
   ]
  },
  {
   "cell_type": "code",
   "execution_count": null,
   "metadata": {
    "collapsed": true
   },
   "outputs": [],
   "source": []
  }
 ],
 "metadata": {
  "anaconda-cloud": {},
  "kernelspec": {
   "display_name": "Python 2",
   "language": "python",
   "name": "python2"
  },
  "language_info": {
   "codemirror_mode": {
    "name": "ipython",
    "version": 2
   },
   "file_extension": ".py",
   "mimetype": "text/x-python",
   "name": "python",
   "nbconvert_exporter": "python",
   "pygments_lexer": "ipython2",
   "version": "2.7.13"
  }
 },
 "nbformat": 4,
 "nbformat_minor": 2
}
