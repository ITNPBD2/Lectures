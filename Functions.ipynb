{
 "cells": [
  {
   "cell_type": "markdown",
   "metadata": {
    "collapsed": true
   },
   "source": [
    "# Functions\n",
    "- A function is a block of organized, reusable code that is used to perform a single, related action. Functions provide better modularity for your application and a high degree of code reusing.\n",
    "- As you already know, Python gives you many built-in functions like print(), etc. but you can also create your own functions. These functions are called user-defined functions.\n",
    "\n",
    "## Defining a Function\n",
    "\n",
    "```python\n",
    "def add(x, y):\n",
    "\"\"\"Return the sum of x and y.\"\"\"\n",
    "    return x + y\n",
    "\n",
    "print(add(2,3))\n",
    "```\n",
    "\n",
    "- Function blocks begin with the keyword def followed by the function name and parentheses ( ).\n",
    "- Any input parameters or arguments should be placed within these parentheses. You can also define parameters inside these parentheses.\n",
    "- The first statement of a function can be an optional statement - the documentation string of the function or docstring.\n",
    "- The code block within every function starts with a colon (:) and is indented.\n",
    "- The statement return [expression] exits a function, optionally passing back an expression to the caller. A return statement with no arguments is the same as return None.\n",
    "\n",
    "``` python\n",
    "def functionname( parameters ): \n",
    "    function_suite\n",
    "    return [expression]\n",
    "```\n",
    "\n",
    "## Appending a list in a function"
   ]
  },
  {
   "cell_type": "code",
   "execution_count": 1,
   "metadata": {
    "collapsed": true
   },
   "outputs": [],
   "source": [
    "def changeme( mylist ):\n",
    "    \"This changes a passed list into this function\"\n",
    "    mylist.append([1,2,3,4]);\n",
    "    print \"Values inside the function: \", mylist\n",
    "    return"
   ]
  },
  {
   "cell_type": "code",
   "execution_count": 2,
   "metadata": {},
   "outputs": [
    {
     "name": "stdout",
     "output_type": "stream",
     "text": [
      "Values outside the function:  [10, 20, 30]\n",
      "Values inside the function:  [10, 20, 30, [1, 2, 3, 4]]\n",
      "Values outside the function:  [10, 20, 30, [1, 2, 3, 4]]\n"
     ]
    }
   ],
   "source": [
    "mylist = [10,20,30];\n",
    "print \"Values outside the function: \", mylist\n",
    "changeme( mylist );\n",
    "print \"Values outside the function: \", mylist"
   ]
  },
  {
   "cell_type": "markdown",
   "metadata": {},
   "source": [
    "# Default arguments"
   ]
  },
  {
   "cell_type": "code",
   "execution_count": 3,
   "metadata": {},
   "outputs": [
    {
     "name": "stdout",
     "output_type": "stream",
     "text": [
      "Name:  miki\n",
      "Age  50\n"
     ]
    }
   ],
   "source": [
    "def printinfo( name, age = 35 ):\n",
    "    \"This prints a passed info into this function\"\n",
    "    print \"Name: \", name\n",
    "    print \"Age \", age\n",
    "    return;\n",
    "printinfo( age=50, name=\"miki\" )"
   ]
  },
  {
   "cell_type": "code",
   "execution_count": 4,
   "metadata": {},
   "outputs": [
    {
     "name": "stdout",
     "output_type": "stream",
     "text": [
      "Name:  miki\n",
      "Age  35\n"
     ]
    }
   ],
   "source": [
    "printinfo( name=\"miki\" )"
   ]
  },
  {
   "cell_type": "markdown",
   "metadata": {},
   "source": [
    "## Variable-length arguments"
   ]
  },
  {
   "cell_type": "code",
   "execution_count": 5,
   "metadata": {},
   "outputs": [
    {
     "name": "stdout",
     "output_type": "stream",
     "text": [
      "Output is: \n",
      "10\n",
      "Output is: \n",
      "70\n",
      "60\n",
      "50\n"
     ]
    }
   ],
   "source": [
    "def printinfo( arg1, *varArg ):\n",
    "    \"This prints a variable passed arguments\"\n",
    "    print \"Output is: \"\n",
    "    print arg1\n",
    "    for var in varArg:\n",
    "        print var\n",
    "    return;\n",
    "printinfo( 10 )\n",
    "printinfo( 70, 60, 50 )"
   ]
  },
  {
   "cell_type": "markdown",
   "metadata": {},
   "source": [
    "### What about named arguments?\n",
    "- You would use *args when you are not sure how many arguments might be passed to your function, i.e. it allows you pass an arbitrary number of arguments to your function\n",
    "- Similarly, **kwargs allows you to handle named arguments that you have not defined in advance"
   ]
  },
  {
   "cell_type": "code",
   "execution_count": 6,
   "metadata": {},
   "outputs": [],
   "source": [
    "def func(required_arg, *args, **kwargs):\n",
    "    # required_arg is a positional-only parameter.\n",
    "    print required_arg\n",
    "\n",
    "    # args is a tuple of positional arguments,\n",
    "    # because the parameter name has * prepended.\n",
    "    if args: # If args is not empty.\n",
    "        print args\n",
    "\n",
    "    # kwargs is a dictionary of keyword arguments,\n",
    "    # because the parameter name has ** prepended.\n",
    "    if kwargs: # If kwargs is not empty.\n",
    "        print kwargs\n",
    "    "
   ]
  },
  {
   "cell_type": "code",
   "execution_count": 7,
   "metadata": {},
   "outputs": [
    {
     "ename": "TypeError",
     "evalue": "func() takes at least 1 argument (0 given)",
     "output_type": "error",
     "traceback": [
      "\u001b[0;31m\u001b[0m",
      "\u001b[0;31mTypeError\u001b[0mTraceback (most recent call last)",
      "\u001b[0;32m<ipython-input-7-08a2da4138f6>\u001b[0m in \u001b[0;36m<module>\u001b[0;34m()\u001b[0m\n\u001b[0;32m----> 1\u001b[0;31m \u001b[0mfunc\u001b[0m\u001b[0;34m(\u001b[0m\u001b[0;34m)\u001b[0m\u001b[0;34m\u001b[0m\u001b[0m\n\u001b[0m",
      "\u001b[0;31mTypeError\u001b[0m: func() takes at least 1 argument (0 given)"
     ]
    }
   ],
   "source": [
    "func()"
   ]
  },
  {
   "cell_type": "code",
   "execution_count": 8,
   "metadata": {},
   "outputs": [
    {
     "name": "stdout",
     "output_type": "stream",
     "text": [
      "required argument\n"
     ]
    }
   ],
   "source": [
    "func(\"required argument\")"
   ]
  },
  {
   "cell_type": "code",
   "execution_count": 9,
   "metadata": {},
   "outputs": [
    {
     "name": "stdout",
     "output_type": "stream",
     "text": [
      "required argument\n",
      "(1, 2, '3')\n"
     ]
    }
   ],
   "source": [
    "func(\"required argument\", 1, 2, '3')"
   ]
  },
  {
   "cell_type": "code",
   "execution_count": 10,
   "metadata": {},
   "outputs": [
    {
     "name": "stdout",
     "output_type": "stream",
     "text": [
      "required argument\n",
      "(1, 2, '3')\n",
      "{'keyword2': 'foo', 'keyword1': 4}\n"
     ]
    }
   ],
   "source": [
    "func(\"required argument\", 1, 2, '3', keyword1=4, keyword2=\"foo\")"
   ]
  },
  {
   "cell_type": "markdown",
   "metadata": {},
   "source": [
    "# Anonymous Functions\n",
    "- These functions are called anonymous because they are not declared in the standard manner by using the def keyword. You can use the lambda keyword to create small anonymous functions.\n",
    "- ```Lambda``` forms can take any number of arguments but return just one value in the form of an expression. They cannot contain commands or multiple expressions.\n",
    "- An anonymous function cannot be a direct call to print because lambda requires an expression"
   ]
  },
  {
   "cell_type": "code",
   "execution_count": 11,
   "metadata": {
    "collapsed": true
   },
   "outputs": [],
   "source": [
    "sum1 = lambda arg1, arg2: arg1 + arg2;"
   ]
  },
  {
   "cell_type": "code",
   "execution_count": 12,
   "metadata": {},
   "outputs": [
    {
     "name": "stdout",
     "output_type": "stream",
     "text": [
      "Value of total :  30\n"
     ]
    }
   ],
   "source": [
    "print \"Value of total : \", sum1( 10, 20 )"
   ]
  },
  {
   "cell_type": "code",
   "execution_count": 13,
   "metadata": {},
   "outputs": [
    {
     "name": "stdout",
     "output_type": "stream",
     "text": [
      "Inside the function : \n",
      "30\n",
      "Outside the function : \n",
      "30\n"
     ]
    }
   ],
   "source": [
    "def sum( arg1, arg2 ):\n",
    "    total = arg1 + arg2\n",
    "    print \"Inside the function : \"\n",
    "    print total\n",
    "    return total;\n",
    "total = sum( 10, 20 );\n",
    "print \"Outside the function : \"\n",
    "print total"
   ]
  },
  {
   "cell_type": "code",
   "execution_count": 14,
   "metadata": {
    "collapsed": true
   },
   "outputs": [],
   "source": [
    "def max1(x1, x2):\n",
    "    if x1 > x2:\n",
    "        return x1\n",
    "    else:\n",
    "        return x2"
   ]
  },
  {
   "cell_type": "code",
   "execution_count": 15,
   "metadata": {},
   "outputs": [
    {
     "data": {
      "text/plain": [
       "434"
      ]
     },
     "execution_count": 15,
     "metadata": {},
     "output_type": "execute_result"
    }
   ],
   "source": [
    "max1(32,434)"
   ]
  },
  {
   "cell_type": "markdown",
   "metadata": {},
   "source": [
    "## None (Null in other languages)"
   ]
  },
  {
   "cell_type": "code",
   "execution_count": 16,
   "metadata": {},
   "outputs": [
    {
     "name": "stdout",
     "output_type": "stream",
     "text": [
      "in f() now\n",
      "None\n"
     ]
    }
   ],
   "source": [
    "def f():\n",
    "    print \"in f() now\"\n",
    "print f()"
   ]
  },
  {
   "cell_type": "code",
   "execution_count": 17,
   "metadata": {},
   "outputs": [
    {
     "name": "stdout",
     "output_type": "stream",
     "text": [
      "you passed in x argument\n",
      "y = None\n",
      "True\n",
      "<type 'NoneType'>\n",
      "<type 'NoneType'>\n"
     ]
    }
   ],
   "source": [
    "def f(x):\n",
    "    print \"you passed in x \" + str(x)\n",
    "y = f(\"argument\")\n",
    "print \"y = \" + str(y)\n",
    "print y==None\n",
    "print type(None)\n",
    "print type(y)"
   ]
  },
  {
   "cell_type": "markdown",
   "metadata": {},
   "source": [
    "# Python Modules\n",
    "Simply, a module is a file consisting of Python code. A module can define functions, classes and variables. A module can also include runnable code.\n",
    "\n",
    "## In a file called lib.py\n",
    "```python\n",
    "x = \"hi there\"\n",
    "def print_func( par ):\n",
    "    print \"Hello : \", par\n",
    "    return\n",
    "```\n",
    "\n",
    "## In a file called test.py\n",
    "```python\n",
    "import lib\n",
    "print(lib.x)\n",
    "lib.print_func(\"ABC\")\n",
    "```\n",
    "\n",
    "## as keywprd\n",
    "```python\n",
    "import lib as L\n",
    "print(L.x)\n",
    "L.print_func(\"ABC\")\n",
    "```"
   ]
  },
  {
   "cell_type": "markdown",
   "metadata": {},
   "source": [
    "## “” and None are different"
   ]
  },
  {
   "cell_type": "code",
   "execution_count": 18,
   "metadata": {},
   "outputs": [
    {
     "name": "stdout",
     "output_type": "stream",
     "text": [
      "\n",
      "<type 'str'>\n",
      "None\n",
      "<type 'NoneType'>\n"
     ]
    }
   ],
   "source": [
    "name = \"\"\n",
    "print name\n",
    "print type(name)\n",
    "name = None\n",
    "print name\n",
    "print type(name)"
   ]
  },
  {
   "cell_type": "markdown",
   "metadata": {},
   "source": [
    "# () and None are different"
   ]
  },
  {
   "cell_type": "code",
   "execution_count": 19,
   "metadata": {},
   "outputs": [
    {
     "name": "stdout",
     "output_type": "stream",
     "text": [
      "('John', 'David')\n",
      "<type 'tuple'>\n",
      "()\n",
      "<type 'tuple'>\n",
      "None\n",
      "<type 'NoneType'>\n"
     ]
    }
   ],
   "source": [
    "tupleNames = (\"John\", \"David\")\n",
    "print tupleNames\n",
    "print type(tupleNames)\n",
    "tupleNames = ()\n",
    "print tupleNames\n",
    "print type(tupleNames)\n",
    "tupleNames = None\n",
    "print tupleNames\n",
    "print type(tupleNames)"
   ]
  },
  {
   "cell_type": "code",
   "execution_count": null,
   "metadata": {
    "collapsed": true
   },
   "outputs": [],
   "source": []
  },
  {
   "cell_type": "code",
   "execution_count": null,
   "metadata": {
    "collapsed": true
   },
   "outputs": [],
   "source": []
  }
 ],
 "metadata": {
  "kernelspec": {
   "display_name": "Python 2",
   "language": "python",
   "name": "python2"
  },
  "language_info": {
   "codemirror_mode": {
    "name": "ipython",
    "version": 2
   },
   "file_extension": ".py",
   "mimetype": "text/x-python",
   "name": "python",
   "nbconvert_exporter": "python",
   "pygments_lexer": "ipython2",
   "version": "2.7.11"
  }
 },
 "nbformat": 4,
 "nbformat_minor": 2
}
