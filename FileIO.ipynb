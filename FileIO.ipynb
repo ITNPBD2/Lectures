{
 "cells": [
  {
   "cell_type": "markdown",
   "metadata": {
    "collapsed": true
   },
   "source": [
    "# File I/O\n",
    "\n",
    "- Basic reading / writing of text files in Python\n",
    "- Use a library for more complex formats (python-docx, pypdf2)\n",
    "\n",
    "\n",
    "\n",
    "\n"
   ]
  },
  {
   "cell_type": "markdown",
   "metadata": {},
   "source": [
    "# Text files\n",
    "\n",
    "- Open file, get handle\n",
    "- Step through the file\n",
    "    - Line by line\n",
    "    - (bytewise for binary files)\n",
    "- Close file\n",
    "    - Releases locks and resources\n",
    "- Be careful about:\n",
    "    - Windows / Unix format newlines\n",
    "    - Character encoding (ASCII/UTF-8)"
   ]
  },
  {
   "cell_type": "markdown",
   "metadata": {},
   "source": [
    "### data.txt\n",
    "```txt\n",
    "Name,Room,Phone\n",
    "Bob,C11,4445\n",
    "Alice,C12,4443\n",
    "Jeff,B14,4456\n",
    "Jonathan,B16,4452\n",
    "Susan,B19,4476\n",
    "Betty,AA1,4599\n",
    "Sean,AX2,4598\n",
    "Wilma,AX3,4578\n",
    "Jim,AX5,4590\n",
    "Mary,C44,4140\n",
    "```\n",
    "### Reading files in Python"
   ]
  },
  {
   "cell_type": "code",
   "execution_count": 1,
   "metadata": {},
   "outputs": [
    {
     "name": "stdout",
     "output_type": "stream",
     "text": [
      "<open file 'data.txt', mode 'r' at 0x7f5b146a0300>\n",
      "Name,Room,Phone\n",
      "Bob,C11,4445\n",
      "Alice,C12,4443\n",
      "done.\n"
     ]
    }
   ],
   "source": [
    "f = open(\"data.txt\", \"r\")\n",
    "# Open file for reading (“w”=writing, “a”=append)\n",
    "print(f)\n",
    "line1 = f.readline().strip()\n",
    "# Read next line from the file, store in string “s”\n",
    "line2 = f.readline().strip()\n",
    "line3 = f.readline().strip()\n",
    "print(line1)\n",
    "print(line2)\n",
    "print(line3)\n",
    "f.close()\n",
    "print(\"done.\")"
   ]
  },
  {
   "cell_type": "markdown",
   "metadata": {},
   "source": [
    "### Use with… instead of file.open() & file.close():\n",
    "- This automatically closes the file after the block"
   ]
  },
  {
   "cell_type": "code",
   "execution_count": 2,
   "metadata": {},
   "outputs": [
    {
     "name": "stdout",
     "output_type": "stream",
     "text": [
      "<open file 'data.txt', mode 'r' at 0x7f5b146a0390>\n",
      "Name,Room,Phone\n",
      "Bob,C11,4445\n",
      "Alice,C12,4443\n",
      "done.\n"
     ]
    }
   ],
   "source": [
    "with open(\"data.txt\", \"r\") as f:\n",
    "    # Open file for reading (“w”=writing, “a”=append)\n",
    "    print(f)\n",
    "    line1 = f.readline().strip()\n",
    "    # Read next line from the file, store in string “s”\n",
    "    line2 = f.readline().strip()\n",
    "    line3 = f.readline().strip()\n",
    "    print(line1)\n",
    "    print(line2)\n",
    "    print(line3)\n",
    "\n",
    "print(\"done.\")"
   ]
  },
  {
   "cell_type": "markdown",
   "metadata": {},
   "source": [
    "### Use a loop to iterate over the file"
   ]
  },
  {
   "cell_type": "code",
   "execution_count": 3,
   "metadata": {},
   "outputs": [
    {
     "name": "stdout",
     "output_type": "stream",
     "text": [
      "data.txt\n",
      "\n",
      "Name,Room,Phone\n",
      "Bob,C11,4445\n",
      "Alice,C12,4443\n",
      "Jeff,B14,4456\n",
      "Jonathan,B16,4452\n",
      "Susan,B19,4476\n",
      "Betty,AA1,4599\n",
      "Sean,AX2,4598\n",
      "Wilma,AX3,4578\n",
      "Jim,AX5,4590\n",
      "Mary,C44,4140\n",
      "done.\n"
     ]
    }
   ],
   "source": [
    "with open(\"data.txt\", \"r\") as f:\n",
    "    # Open file for reading (“w”=writing, “a”=append)\n",
    "    print(\"data.txt\\n\")\n",
    "    for line in f:\n",
    "        print(line.strip())\n",
    "print(\"done.\")"
   ]
  },
  {
   "cell_type": "markdown",
   "metadata": {},
   "source": [
    "## Reading files in Python"
   ]
  },
  {
   "cell_type": "code",
   "execution_count": 4,
   "metadata": {},
   "outputs": [],
   "source": [
    "with open('output.txt', \"w\") as f:\n",
    "    for i in range(1, 10):\n",
    "        f.write(\"Line \" + str(i) +\"\\n\")"
   ]
  },
  {
   "cell_type": "markdown",
   "metadata": {},
   "source": [
    "## What do you expect to be in the file?"
   ]
  },
  {
   "cell_type": "code",
   "execution_count": 5,
   "metadata": {},
   "outputs": [
    {
     "name": "stdout",
     "output_type": "stream",
     "text": [
      "output.txt\n",
      "\n",
      "Line 1\n",
      "Line 2\n",
      "Line 3\n",
      "Line 4\n",
      "Line 5\n",
      "Line 6\n",
      "Line 7\n",
      "Line 8\n",
      "Line 9\n"
     ]
    }
   ],
   "source": [
    "print(\"output.txt\\n\")\n",
    "with open(\"output.txt\", \"r\") as f:\n",
    "    for line in f:\n",
    "        print(line.strip())"
   ]
  },
  {
   "cell_type": "markdown",
   "metadata": {},
   "source": [
    "## Handling CSV (Comma separated values) files\n",
    "- text file with rows and columns, data separated by commas\n"
   ]
  },
  {
   "cell_type": "markdown",
   "metadata": {},
   "source": [
    "### data.csv\n",
    "``` csv\n",
    "Name,Room,Phone\n",
    "Bob,C11,4445\n",
    "Alice,C12,4443\n",
    "Jeff,B14,4456\n",
    "Jonathan,B16,4452\n",
    "Susan,B19,4476\n",
    "```\n",
    "\n",
    "#### Could read each line and use split(“,”) to break into lists, but this is quite easy to break"
   ]
  },
  {
   "cell_type": "code",
   "execution_count": 6,
   "metadata": {},
   "outputs": [
    {
     "name": "stdout",
     "output_type": "stream",
     "text": [
      "['Name', 'Room', 'Phone']\n",
      "['Bob', 'C11', '4445']\n",
      "['Alice', 'C12', '4443']\n",
      "['Jeff', 'B14', '4456']\n",
      "['Jonathan', 'B16', '4452']\n",
      "['Susan', 'B19', '4476']\n",
      "['Betty', 'AA1', '4599']\n",
      "['Sean', 'AX2', '4598']\n",
      "['Wilma', 'AX3', '4578']\n",
      "['Jim', 'AX5', '4590']\n",
      "['Mary', 'C44', '4140']\n"
     ]
    }
   ],
   "source": [
    "with open(\"data.csv\", \"r\") as f:\n",
    "    for line in f:\n",
    "        print(line.strip().split(\",\"))"
   ]
  },
  {
   "cell_type": "markdown",
   "metadata": {},
   "source": [
    "## Better to use the Python csv library\n",
    "```python\n",
    "import csv\n",
    "csv.reader(filename)\n",
    "csv.DictReader(filename\n",
    "```"
   ]
  },
  {
   "cell_type": "code",
   "execution_count": 7,
   "metadata": {},
   "outputs": [
    {
     "name": "stdout",
     "output_type": "stream",
     "text": [
      "['Name', 'Room', 'Phone']\n",
      "['Bob', 'C11', '4445']\n",
      "['Alice', 'C12', '4443']\n",
      "['Jeff', 'B14', '4456']\n",
      "['Jonathan', 'B16', '4452']\n",
      "['Susan', 'B19', '4476']\n",
      "['Betty', 'AA1', '4599']\n",
      "['Sean', 'AX2', '4598']\n",
      "['Wilma', 'AX3', '4578']\n",
      "['Jim', 'AX5', '4590']\n",
      "['Mary', 'C44', '4140']\n"
     ]
    }
   ],
   "source": [
    "import csv\n",
    "with open('data.csv') as f:\n",
    "    r = csv.reader(f, delimiter=',')\n",
    "    for row in r:\n",
    "        print(row)"
   ]
  },
  {
   "cell_type": "code",
   "execution_count": 8,
   "metadata": {},
   "outputs": [
    {
     "name": "stdout",
     "output_type": "stream",
     "text": [
      "['Name', 'Room', 'Phone']\n",
      "Bob: C11\n",
      "Alice: C12\n",
      "Jeff: B14\n",
      "Jonathan: B16\n",
      "Susan: B19\n",
      "Betty: AA1\n",
      "Sean: AX2\n",
      "Wilma: AX3\n",
      "Jim: AX5\n",
      "Mary: C44\n"
     ]
    }
   ],
   "source": [
    "import csv\n",
    "with open('data.csv') as f:\n",
    "    r = csv.DictReader(f, delimiter=',')\n",
    "    print(r.fieldnames)\n",
    "    for row in r:\n",
    "        print(row['Name'] + ': ' + row['Room'])"
   ]
  },
  {
   "cell_type": "markdown",
   "metadata": {},
   "source": [
    "## Writing CSV"
   ]
  },
  {
   "cell_type": "code",
   "execution_count": 9,
   "metadata": {},
   "outputs": [],
   "source": [
    "import csv\n",
    "with open('output.txt', 'w') as f:\n",
    "    fieldnames = {'Row', 'Next'}\n",
    "    w = csv.DictWriter(f, fieldnames)\n",
    "    w.writeheader()\n",
    "    for i in range(1, 10):\n",
    "        data = {'Row': str(i), 'Next': str(i+1)}\n",
    "        w.writerow(data)"
   ]
  },
  {
   "cell_type": "code",
   "execution_count": 10,
   "metadata": {},
   "outputs": [
    {
     "name": "stdout",
     "output_type": "stream",
     "text": [
      "output.txt\n",
      "\n",
      "Row,Next\n",
      "1,2\n",
      "2,3\n",
      "3,4\n",
      "4,5\n",
      "5,6\n",
      "6,7\n",
      "7,8\n",
      "8,9\n",
      "9,10\n"
     ]
    }
   ],
   "source": [
    "print(\"output.txt\\n\")\n",
    "with open(\"output.txt\", \"r\") as f:\n",
    "    for line in f:\n",
    "        print(line.strip())"
   ]
  },
  {
   "cell_type": "code",
   "execution_count": null,
   "metadata": {
    "collapsed": true
   },
   "outputs": [],
   "source": []
  }
 ],
 "metadata": {
  "kernelspec": {
   "display_name": "Python 2",
   "language": "python",
   "name": "python2"
  },
  "language_info": {
   "codemirror_mode": {
    "name": "ipython",
    "version": 2
   },
   "file_extension": ".py",
   "mimetype": "text/x-python",
   "name": "python",
   "nbconvert_exporter": "python",
   "pygments_lexer": "ipython2",
   "version": "2.7.11"
  }
 },
 "nbformat": 4,
 "nbformat_minor": 2
}
