{
 "cells": [
  {
   "cell_type": "markdown",
   "metadata": {
    "collapsed": true
   },
   "source": [
    "## Dictionary\n",
    "\n",
    "- A dictionary is mutable and is another container type that can store any number of Python objects, including other container types.\n",
    "- Dictionaries consist of pairs (called items) of keys and their corresponding values.\n",
    "- Think of the key to a value\n",
    "- Python dictionaries are also known as associative arrays or hash tables."
   ]
  },
  {
   "cell_type": "code",
   "execution_count": 1,
   "metadata": {},
   "outputs": [
    {
     "name": "stdout",
     "output_type": "stream",
     "text": [
      "{'Beth': '9102', 'Alice': '2341', 'Cecil': '3258'}\n"
     ]
    }
   ],
   "source": [
    "dict = {'Alice': '2341', 'Beth': '9102', 'Cecil': '3258'}\n",
    "print(dict)"
   ]
  },
  {
   "cell_type": "code",
   "execution_count": 2,
   "metadata": {
    "collapsed": true
   },
   "outputs": [],
   "source": [
    "empty_dictionary = {}"
   ]
  },
  {
   "cell_type": "markdown",
   "metadata": {},
   "source": [
    "## Keys\n",
    "- Each key is separated from its value by a colon (:), the items are separated by commas, and the whole thing is enclosed in curly braces.\n",
    "- An empty dictionary without any items is written with just two curly braces, like this: {}.\n",
    "- Keys are unique within a dictionary while values may not be. The values of a dictionary can be of any type, but the keys must be of an immutable data type such as strings, numbers, or tuples."
   ]
  },
  {
   "cell_type": "markdown",
   "metadata": {},
   "source": [
    "## Example"
   ]
  },
  {
   "cell_type": "code",
   "execution_count": 3,
   "metadata": {},
   "outputs": [
    {
     "name": "stdout",
     "output_type": "stream",
     "text": [
      "{1: 'one', 2: 'two', 3: 'three'}\n",
      "{1: 'one', 2: 'two', 3: 'three', 4: 'four'}\n",
      "{2: 'two', 3: 'three', 4: 'four'}\n",
      "{'five': 5, 2: 'two', 3: 'three', 4: 'four'}\n",
      "{'five': 5, 2: 'two', 3: 'three', 4: 'four', 1.2: 'one.two'}\n"
     ]
    }
   ],
   "source": [
    "digitsStrings = {1: \"one\", 2: \"two\", 3:\"three\"}\n",
    "print digitsStrings\n",
    "digitsStrings[4] = \"four\"\n",
    "print digitsStrings\n",
    "del digitsStrings[1]\n",
    "print digitsStrings\n",
    "digitsStrings[\"five\"] = 5\n",
    "print digitsStrings\n",
    "digitsStrings[1.2]=\"one.two\"\n",
    "print digitsStrings"
   ]
  },
  {
   "cell_type": "markdown",
   "metadata": {},
   "source": [
    "# Keys – must be unique\n",
    "\n",
    "### Keys must be unique\n",
    "\n",
    "- One key accesses one value.\n",
    "- I would keep the same datatype.(string,int)\n",
    "- I would not use floats.\n",
    "- Which are possible keys\n",
    "\n",
    "    - Student ID number,\n",
    "    - date of birth,\n",
    "    - email address,\n",
    "    - car registration,\n",
    "    - full name,"
   ]
  },
  {
   "cell_type": "markdown",
   "metadata": {},
   "source": [
    "# Accessing Values in Dictionary"
   ]
  },
  {
   "cell_type": "code",
   "execution_count": 4,
   "metadata": {},
   "outputs": [
    {
     "name": "stdout",
     "output_type": "stream",
     "text": [
      "{'Age': 7, 'Name': 'Zara', 'Class': 'First'}\n"
     ]
    }
   ],
   "source": [
    "dict1 = {'Name': 'Zara', 'Age': 7, 'Class': 'First'};\n",
    "print(dict1)"
   ]
  },
  {
   "cell_type": "code",
   "execution_count": 5,
   "metadata": {},
   "outputs": [
    {
     "name": "stdout",
     "output_type": "stream",
     "text": [
      "Zara\n"
     ]
    }
   ],
   "source": [
    "print(dict1['Name'])"
   ]
  },
  {
   "cell_type": "code",
   "execution_count": 6,
   "metadata": {},
   "outputs": [
    {
     "name": "stdout",
     "output_type": "stream",
     "text": [
      "7\n"
     ]
    }
   ],
   "source": [
    "print(dict1['Age'])"
   ]
  },
  {
   "cell_type": "markdown",
   "metadata": {},
   "source": [
    "## Updating Dictionary"
   ]
  },
  {
   "cell_type": "code",
   "execution_count": 7,
   "metadata": {},
   "outputs": [
    {
     "name": "stdout",
     "output_type": "stream",
     "text": [
      "{'Age': 8, 'Name': 'Zara', 'Class': 'First'}\n"
     ]
    }
   ],
   "source": [
    "dict1['Age'] = 8 # update existing entry\n",
    "print(dict1)"
   ]
  },
  {
   "cell_type": "markdown",
   "metadata": {},
   "source": [
    "## Adding a new key"
   ]
  },
  {
   "cell_type": "code",
   "execution_count": 8,
   "metadata": {},
   "outputs": [
    {
     "name": "stdout",
     "output_type": "stream",
     "text": [
      "{'School': 'DPS School', 'Age': 8, 'Name': 'Zara', 'Class': 'First'}\n"
     ]
    }
   ],
   "source": [
    "dict1['School'] = \"DPS School\"; # Add new entry/key\n",
    "print(dict1)"
   ]
  },
  {
   "cell_type": "markdown",
   "metadata": {},
   "source": [
    "## Removing a key"
   ]
  },
  {
   "cell_type": "code",
   "execution_count": 9,
   "metadata": {
    "scrolled": true
   },
   "outputs": [
    {
     "name": "stdout",
     "output_type": "stream",
     "text": [
      "{'School': 'DPS School', 'Age': 8, 'Name': 'Zara', 'Class': 'First'}\n",
      "{'School': 'DPS School', 'Age': 8, 'Class': 'First'}\n"
     ]
    }
   ],
   "source": [
    "print(dict1)\n",
    "del dict1['Name']; # remove entry with key\n",
    "print(dict1)"
   ]
  },
  {
   "cell_type": "markdown",
   "metadata": {},
   "source": [
    "## Removing all keys"
   ]
  },
  {
   "cell_type": "code",
   "execution_count": 10,
   "metadata": {},
   "outputs": [
    {
     "name": "stdout",
     "output_type": "stream",
     "text": [
      "{'School': 'DPS School', 'Age': 8, 'Class': 'First'}\n",
      "{}\n"
     ]
    }
   ],
   "source": [
    "print(dict1)\n",
    "dict1.clear(); # remove entry with key\n",
    "print(dict1)"
   ]
  },
  {
   "cell_type": "markdown",
   "metadata": {},
   "source": [
    "## Deleting dictionary"
   ]
  },
  {
   "cell_type": "code",
   "execution_count": 11,
   "metadata": {},
   "outputs": [
    {
     "name": "stdout",
     "output_type": "stream",
     "text": [
      "{}\n"
     ]
    },
    {
     "ename": "NameError",
     "evalue": "name 'dict1' is not defined",
     "output_type": "error",
     "traceback": [
      "\u001b[0;31m\u001b[0m",
      "\u001b[0;31mNameError\u001b[0mTraceback (most recent call last)",
      "\u001b[0;32m<ipython-input-11-f31c6612bdee>\u001b[0m in \u001b[0;36m<module>\u001b[0;34m()\u001b[0m\n\u001b[1;32m      1\u001b[0m \u001b[0;32mprint\u001b[0m\u001b[0;34m(\u001b[0m\u001b[0mdict1\u001b[0m\u001b[0;34m)\u001b[0m\u001b[0;34m\u001b[0m\u001b[0m\n\u001b[1;32m      2\u001b[0m \u001b[0;32mdel\u001b[0m \u001b[0mdict1\u001b[0m\u001b[0;34m\u001b[0m\u001b[0m\n\u001b[0;32m----> 3\u001b[0;31m \u001b[0;32mprint\u001b[0m\u001b[0;34m(\u001b[0m\u001b[0mdict1\u001b[0m\u001b[0;34m)\u001b[0m\u001b[0;34m\u001b[0m\u001b[0m\n\u001b[0m",
      "\u001b[0;31mNameError\u001b[0m: name 'dict1' is not defined"
     ]
    }
   ],
   "source": [
    "print(dict1)\n",
    "del dict1\n",
    "print(dict1)"
   ]
  },
  {
   "cell_type": "markdown",
   "metadata": {},
   "source": [
    "## Properties of Dictionary Values\n",
    "- Dictionary values have no restrictions.\n",
    "- They can be any arbitrary Python object, either standard objects or user-defined objects.\n",
    "- However, same is not true for the keys.\n",
    "\n",
    "## Properties of Dictionary Keys\n",
    "- There are two important points to remember about dictionary keys:\n",
    "- (a) More than one entry per key not allowed. Which means no duplicate key is allowed. When duplicate keys encountered during assignment, the last assignment wins. Following is a simple example:"
   ]
  },
  {
   "cell_type": "markdown",
   "metadata": {},
   "source": [
    "### What if we declare same key twice?"
   ]
  },
  {
   "cell_type": "code",
   "execution_count": 12,
   "metadata": {},
   "outputs": [
    {
     "name": "stdout",
     "output_type": "stream",
     "text": [
      "Sara\n"
     ]
    }
   ],
   "source": [
    "dict = {'Name': 'John', 'Age': 7, 'Name': 'Sara'};\n",
    "print dict['Name'];"
   ]
  },
  {
   "cell_type": "markdown",
   "metadata": {},
   "source": [
    "# Keys must be immutable\n",
    "- You can use strings, numbers or tuples as dictionary keys but something like ['key'] is not allowed."
   ]
  },
  {
   "cell_type": "code",
   "execution_count": 13,
   "metadata": {},
   "outputs": [
    {
     "ename": "TypeError",
     "evalue": "unhashable type: 'list'",
     "output_type": "error",
     "traceback": [
      "\u001b[0;31m\u001b[0m",
      "\u001b[0;31mTypeError\u001b[0mTraceback (most recent call last)",
      "\u001b[0;32m<ipython-input-13-8441f70ce411>\u001b[0m in \u001b[0;36m<module>\u001b[0;34m()\u001b[0m\n\u001b[0;32m----> 1\u001b[0;31m \u001b[0mdict\u001b[0m \u001b[0;34m=\u001b[0m \u001b[0;34m{\u001b[0m\u001b[0;34m[\u001b[0m\u001b[0;34m'Name'\u001b[0m\u001b[0;34m]\u001b[0m\u001b[0;34m:\u001b[0m \u001b[0;34m'Zara'\u001b[0m\u001b[0;34m,\u001b[0m \u001b[0;34m'Age'\u001b[0m\u001b[0;34m:\u001b[0m \u001b[0;36m7\u001b[0m\u001b[0;34m}\u001b[0m\u001b[0;34m;\u001b[0m\u001b[0;34m\u001b[0m\u001b[0m\n\u001b[0m",
      "\u001b[0;31mTypeError\u001b[0m: unhashable type: 'list'"
     ]
    }
   ],
   "source": [
    "dict = {['Name']: 'Zara', 'Age': 7};"
   ]
  },
  {
   "cell_type": "markdown",
   "metadata": {},
   "source": [
    "## Built-in Dictionary Functions\n",
    "### cmp(dict1, dict2) Compares elements of both dict."
   ]
  },
  {
   "cell_type": "code",
   "execution_count": 14,
   "metadata": {},
   "outputs": [
    {
     "name": "stdout",
     "output_type": "stream",
     "text": [
      "Return Value : -1\n",
      "Return Value : 1\n",
      "Return Value : 0\n"
     ]
    }
   ],
   "source": [
    "dict1 = {'Name': 'Zara', 'Age': 7};\n",
    "dict2 = {'Name': 'Mahnaz', 'Age': 27};\n",
    "dict3 = {'Name': 'Abid', 'Age': 27};\n",
    "dict4 = {'Name': 'Zara', 'Age': 7};\n",
    "print \"Return Value : %d\" %  cmp (dict1, dict2)\n",
    "print \"Return Value : %d\" %  cmp (dict2, dict3)\n",
    "print \"Return Value : %d\" %  cmp (dict1, dict4)"
   ]
  },
  {
   "cell_type": "markdown",
   "metadata": {},
   "source": [
    "### len(dict) Gives the total length of the dictionary. This would be equal to the number of items in the dictionary."
   ]
  },
  {
   "cell_type": "code",
   "execution_count": 15,
   "metadata": {},
   "outputs": [
    {
     "name": "stdout",
     "output_type": "stream",
     "text": [
      "Length : 2\n"
     ]
    }
   ],
   "source": [
    "dict = {'Name': 'Sam', 'Age': 7};\n",
    "print \"Length : %d\" % len (dict)"
   ]
  },
  {
   "cell_type": "markdown",
   "metadata": {},
   "source": [
    "## str(dict) Produces a printable string representation of a dictionary"
   ]
  },
  {
   "cell_type": "code",
   "execution_count": 16,
   "metadata": {},
   "outputs": [
    {
     "name": "stdout",
     "output_type": "stream",
     "text": [
      "Equivalent String : {'Age': 7, 'Name': 'Zara'}\n"
     ]
    }
   ],
   "source": [
    "dict = {'Name': 'Zara', 'Age': 7};\n",
    "print \"Equivalent String : %s\" % str (dict)"
   ]
  },
  {
   "cell_type": "markdown",
   "metadata": {},
   "source": [
    "## type(variable) Returns the type of the passed variable. If passed variable is dictionary, then it would return a dictionary type."
   ]
  },
  {
   "cell_type": "code",
   "execution_count": 17,
   "metadata": {},
   "outputs": [
    {
     "name": "stdout",
     "output_type": "stream",
     "text": [
      "Variable Type : <type 'dict'>\n"
     ]
    }
   ],
   "source": [
    "dict = {'Name': 'Zara', 'Age': 7};\n",
    "print \"Variable Type : %s\" %  type (dict)"
   ]
  },
  {
   "cell_type": "markdown",
   "metadata": {},
   "source": [
    "## Built-in Dictionary Methods\n",
    "- dict.clear() Removes all elements of dictionary dict\n",
    "- dict.copy() Returns a shallow copy of dictionary dict\n",
    "- dict.fromkeys() Create a new dictionary with keys from seq and values set to value.\n",
    "- dict.get(key, default=None) For key key, returns value or default if key not in dictionary\n",
    "- dict.has_key(key) Returns true if key in dictionary dict, false otherwise\n",
    "- dict.items() Returns a list of dict's (key, value) tuple pairs\n",
    "- dict.keys() Returns list of dictionary dict's keys\n",
    "- dict.setdefault(key, default=None) Similar to get(), but will set dict[key]=default if key is not already in dict\n",
    "- dict.update(dict2) Adds dictionary dict2's key-values pairs to dict\n",
    "- dict.values() Returns list of dictionary dict's values"
   ]
  },
  {
   "cell_type": "code",
   "execution_count": 18,
   "metadata": {},
   "outputs": [
    {
     "name": "stdout",
     "output_type": "stream",
     "text": [
      "Value : 7\n",
      "Value : Never\n"
     ]
    }
   ],
   "source": [
    "dict = {'Name': 'Zabra', 'Age': 7}\n",
    "\n",
    "print \"Value : %s\" %  dict.get('Age')\n",
    "print \"Value : %s\" %  dict.get('Education', \"Never\")"
   ]
  },
  {
   "cell_type": "code",
   "execution_count": 19,
   "metadata": {},
   "outputs": [
    {
     "data": {
      "text/plain": [
       "True"
      ]
     },
     "execution_count": 19,
     "metadata": {},
     "output_type": "execute_result"
    }
   ],
   "source": [
    "dict.has_key('Name')"
   ]
  },
  {
   "cell_type": "code",
   "execution_count": 20,
   "metadata": {},
   "outputs": [
    {
     "data": {
      "text/plain": [
       "[('Age', 7), ('Name', 'Zabra')]"
      ]
     },
     "execution_count": 20,
     "metadata": {},
     "output_type": "execute_result"
    }
   ],
   "source": [
    "dict.items()"
   ]
  },
  {
   "cell_type": "code",
   "execution_count": 21,
   "metadata": {},
   "outputs": [
    {
     "data": {
      "text/plain": [
       "['Age', 'Name']"
      ]
     },
     "execution_count": 21,
     "metadata": {},
     "output_type": "execute_result"
    }
   ],
   "source": [
    "dict.keys()"
   ]
  },
  {
   "cell_type": "code",
   "execution_count": 22,
   "metadata": {},
   "outputs": [
    {
     "data": {
      "text/plain": [
       "[7, 'Zabra']"
      ]
     },
     "execution_count": 22,
     "metadata": {},
     "output_type": "execute_result"
    }
   ],
   "source": [
    "dict.values()"
   ]
  },
  {
   "cell_type": "code",
   "execution_count": 23,
   "metadata": {},
   "outputs": [
    {
     "name": "stdout",
     "output_type": "stream",
     "text": [
      "dict2 {'key2': 'value2', 'key1': 'value1'}\n",
      "dict1 {'key2': 'WHY?!', 'key1': 'value1'}\n",
      "dict2 {'key2': 'WHY?!', 'key1': 'value1'}\n"
     ]
    }
   ],
   "source": [
    "# Assignment by reference\n",
    "dict1 = {\"key1\": \"value1\", \"key2\": \"value2\"}\n",
    "dict2 = dict1\n",
    "print 'dict2',dict2\n",
    "dict2[\"key2\"] = \"WHY?!\"\n",
    "print 'dict1',dict1\n",
    "print 'dict2',dict2"
   ]
  },
  {
   "cell_type": "code",
   "execution_count": 24,
   "metadata": {},
   "outputs": [
    {
     "name": "stdout",
     "output_type": "stream",
     "text": [
      "dict2 {'key2': 'value2', 'key1': 'value1'}\n",
      "dict1 {'key2': 'value2', 'key1': 'value1'}\n",
      "dict2 {'key2': 'WHY?!', 'key1': 'value1'}\n"
     ]
    }
   ],
   "source": [
    "dict1 = {\"key1\": \"value1\", \"key2\": \"value2\"}\n",
    "dict2 = dict1.copy()\n",
    "print 'dict2',dict2\n",
    "dict2[\"key2\"] = \"WHY?!\"\n",
    "print 'dict1',dict1\n",
    "print 'dict2',dict2"
   ]
  },
  {
   "cell_type": "markdown",
   "metadata": {},
   "source": [
    "## Pass by value and Pass by reference"
   ]
  },
  {
   "cell_type": "code",
   "execution_count": 25,
   "metadata": {},
   "outputs": [
    {
     "name": "stdout",
     "output_type": "stream",
     "text": [
      "outside function  99\n",
      "inc 99\n",
      "inc 100\n",
      "outside function  99\n"
     ]
    }
   ],
   "source": [
    "# Pass by value\n",
    "def inc(x):\n",
    "    print \"inc\" ,x\n",
    "    x = x +1\n",
    "    print \"inc\" ,x\n",
    "y = 99\n",
    "print \"outside function \", y\n",
    "inc(y)\n",
    "print \"outside function \", y"
   ]
  },
  {
   "cell_type": "code",
   "execution_count": 26,
   "metadata": {},
   "outputs": [
    {
     "name": "stdout",
     "output_type": "stream",
     "text": [
      "outside function  [99]\n",
      "inc [99]\n",
      "inc [100]\n",
      "outside function  [100]\n"
     ]
    }
   ],
   "source": [
    "#Pass by reference\n",
    "def incList(x):\n",
    "    print \"inc\" ,x\n",
    "    x[0] = x[0] + 1\n",
    "    print \"inc\" ,x\n",
    "y = [99]\n",
    "print \"outside function \", y\n",
    "incList(y)\n",
    "print \"outside function \", y"
   ]
  },
  {
   "cell_type": "markdown",
   "metadata": {},
   "source": [
    "# Tuples\n",
    "## Similar to lists but are immutable"
   ]
  },
  {
   "cell_type": "markdown",
   "metadata": {},
   "source": [
    "- A tuple is a sequence of immutable Python objects.\n",
    "- Tuples are sequences, just like lists.\n",
    "- The only difference is that tuples can't be changed i.e., tuples are immutable\n",
    "- tuples use parentheses and lists use square brackets.\n",
    "- Creating a tuple is as simple as putting different comma-separated values and optionally you can put these comma-separated values between parentheses also."
   ]
  },
  {
   "cell_type": "code",
   "execution_count": 27,
   "metadata": {
    "collapsed": true
   },
   "outputs": [],
   "source": [
    "tup1 = ('physics', 'chemistry', 1997, 2000)\n",
    "tup2 = (1, 2, 3, 4, 5 )\n",
    "empty_tuple = ()"
   ]
  },
  {
   "cell_type": "markdown",
   "metadata": {},
   "source": [
    "### To write a tuple containing a single value you have to include a comma, even though there is only one value:"
   ]
  },
  {
   "cell_type": "code",
   "execution_count": 28,
   "metadata": {
    "collapsed": true
   },
   "outputs": [],
   "source": [
    "tup = (10)"
   ]
  },
  {
   "cell_type": "code",
   "execution_count": 29,
   "metadata": {},
   "outputs": [
    {
     "data": {
      "text/plain": [
       "int"
      ]
     },
     "execution_count": 29,
     "metadata": {},
     "output_type": "execute_result"
    }
   ],
   "source": [
    "type(tup)"
   ]
  },
  {
   "cell_type": "code",
   "execution_count": 30,
   "metadata": {
    "collapsed": true
   },
   "outputs": [],
   "source": [
    "tup1 = (50,);"
   ]
  },
  {
   "cell_type": "code",
   "execution_count": 31,
   "metadata": {},
   "outputs": [
    {
     "data": {
      "text/plain": [
       "tuple"
      ]
     },
     "execution_count": 31,
     "metadata": {},
     "output_type": "execute_result"
    }
   ],
   "source": [
    "type(tup1)"
   ]
  },
  {
   "cell_type": "markdown",
   "metadata": {},
   "source": [
    "## Like string indices, tuple indices start at 0, and tuples can be sliced, concatenated and so on."
   ]
  },
  {
   "cell_type": "markdown",
   "metadata": {},
   "source": [
    "# Updating Tuples\n",
    "- Tuples are immutable.\n",
    "- You are able to take portions of existing tuples to create new tuples\n"
   ]
  },
  {
   "cell_type": "code",
   "execution_count": 32,
   "metadata": {},
   "outputs": [
    {
     "name": "stdout",
     "output_type": "stream",
     "text": [
      "(12, 34.56, 'abc', 'xyz')\n"
     ]
    }
   ],
   "source": [
    "tup1 = (12, 34.56);\n",
    "tup2 = ('abc', 'xyz');\n",
    "tup3 = tup1 + tup2; # concatenation\n",
    "print tup3;"
   ]
  },
  {
   "cell_type": "markdown",
   "metadata": {},
   "source": [
    "# Delete Tuple Elements\n",
    "- Removing individual tuple elements is not possible.\n",
    "- There is nothing wrong with putting together another tuple with the desired elements.\n",
    "- To explicitly remove an entire tuple, just use the del statement."
   ]
  },
  {
   "cell_type": "code",
   "execution_count": 33,
   "metadata": {},
   "outputs": [
    {
     "name": "stdout",
     "output_type": "stream",
     "text": [
      "('physics', 'chemistry', 1997, 2000)\n",
      "After deleting tup : \n"
     ]
    },
    {
     "ename": "NameError",
     "evalue": "name 'tup' is not defined",
     "output_type": "error",
     "traceback": [
      "\u001b[0;31m\u001b[0m",
      "\u001b[0;31mNameError\u001b[0mTraceback (most recent call last)",
      "\u001b[0;32m<ipython-input-33-8e2ffe51c7d2>\u001b[0m in \u001b[0;36m<module>\u001b[0;34m()\u001b[0m\n\u001b[1;32m      3\u001b[0m \u001b[0;32mdel\u001b[0m \u001b[0mtup\u001b[0m\u001b[0;34m;\u001b[0m\u001b[0;34m\u001b[0m\u001b[0m\n\u001b[1;32m      4\u001b[0m \u001b[0;32mprint\u001b[0m \u001b[0;34m\"After deleting tup : \"\u001b[0m\u001b[0;34m\u001b[0m\u001b[0m\n\u001b[0;32m----> 5\u001b[0;31m \u001b[0;32mprint\u001b[0m \u001b[0mtup\u001b[0m\u001b[0;34m\u001b[0m\u001b[0m\n\u001b[0m",
      "\u001b[0;31mNameError\u001b[0m: name 'tup' is not defined"
     ]
    }
   ],
   "source": [
    "tup = ('physics', 'chemistry', 1997, 2000);\n",
    "print tup;\n",
    "del tup;\n",
    "print \"After deleting tup : \"\n",
    "print tup"
   ]
  },
  {
   "cell_type": "code",
   "execution_count": 34,
   "metadata": {},
   "outputs": [
    {
     "data": {
      "text/plain": [
       "3"
      ]
     },
     "execution_count": 34,
     "metadata": {},
     "output_type": "execute_result"
    }
   ],
   "source": [
    "# Length\n",
    "len((1, 2, 3))"
   ]
  },
  {
   "cell_type": "code",
   "execution_count": 35,
   "metadata": {},
   "outputs": [
    {
     "data": {
      "text/plain": [
       "(1, 2, 3, 4, 5, 6)"
      ]
     },
     "execution_count": 35,
     "metadata": {},
     "output_type": "execute_result"
    }
   ],
   "source": [
    "# Concatenation\n",
    "(1, 2, 3) + (4, 5, 6)"
   ]
  },
  {
   "cell_type": "code",
   "execution_count": 36,
   "metadata": {},
   "outputs": [
    {
     "data": {
      "text/plain": [
       "('Hello', 'Hello', 'Hello', 'Hello')"
      ]
     },
     "execution_count": 36,
     "metadata": {},
     "output_type": "execute_result"
    }
   ],
   "source": [
    "# Repetition\n",
    "('Hello',) * 4"
   ]
  },
  {
   "cell_type": "code",
   "execution_count": 37,
   "metadata": {},
   "outputs": [
    {
     "name": "stdout",
     "output_type": "stream",
     "text": [
      "True\n",
      "False\n"
     ]
    }
   ],
   "source": [
    "# Membership\n",
    "print(3 in (1, 2, 3))\n",
    "print(1 not in (1, 2, 3))"
   ]
  },
  {
   "cell_type": "code",
   "execution_count": 38,
   "metadata": {},
   "outputs": [
    {
     "name": "stdout",
     "output_type": "stream",
     "text": [
      "1\n",
      "2\n",
      "3\n",
      "4\n",
      "5\n"
     ]
    }
   ],
   "source": [
    "a = (1,2,3,4,5)\n",
    "for element in a:\n",
    "    print(element)"
   ]
  },
  {
   "cell_type": "markdown",
   "metadata": {},
   "source": [
    "# Indexing\n",
    "- Offsets start at zero\n",
    "- Negative: count from the right\n",
    "- Slicing fetches sections"
   ]
  },
  {
   "cell_type": "code",
   "execution_count": 39,
   "metadata": {
    "collapsed": true
   },
   "outputs": [],
   "source": [
    "tup = (0,1,2,3,4,5,-3,-2,-1)"
   ]
  },
  {
   "cell_type": "code",
   "execution_count": 40,
   "metadata": {},
   "outputs": [
    {
     "name": "stdout",
     "output_type": "stream",
     "text": [
      "2\n"
     ]
    }
   ],
   "source": [
    "print(tup[2])"
   ]
  },
  {
   "cell_type": "code",
   "execution_count": 41,
   "metadata": {},
   "outputs": [
    {
     "name": "stdout",
     "output_type": "stream",
     "text": [
      "-2\n"
     ]
    }
   ],
   "source": [
    "print(tup[-2])"
   ]
  },
  {
   "cell_type": "code",
   "execution_count": 42,
   "metadata": {},
   "outputs": [
    {
     "name": "stdout",
     "output_type": "stream",
     "text": [
      "(1, 2, 3)\n"
     ]
    }
   ],
   "source": [
    "print(tup[1:4])"
   ]
  },
  {
   "cell_type": "code",
   "execution_count": 43,
   "metadata": {},
   "outputs": [
    {
     "data": {
      "text/plain": [
       "9"
      ]
     },
     "execution_count": 43,
     "metadata": {},
     "output_type": "execute_result"
    }
   ],
   "source": [
    "tup = (0,1,2,3,4,5,-3,-2,-1)\n",
    "len(tup)"
   ]
  },
  {
   "cell_type": "code",
   "execution_count": 44,
   "metadata": {},
   "outputs": [
    {
     "data": {
      "text/plain": [
       "5"
      ]
     },
     "execution_count": 44,
     "metadata": {},
     "output_type": "execute_result"
    }
   ],
   "source": [
    "max(tup)"
   ]
  },
  {
   "cell_type": "code",
   "execution_count": 45,
   "metadata": {},
   "outputs": [
    {
     "data": {
      "text/plain": [
       "-3"
      ]
     },
     "execution_count": 45,
     "metadata": {},
     "output_type": "execute_result"
    }
   ],
   "source": [
    "min(tup)"
   ]
  },
  {
   "cell_type": "code",
   "execution_count": 46,
   "metadata": {},
   "outputs": [
    {
     "name": "stdout",
     "output_type": "stream",
     "text": [
      "<type 'list'>\n",
      "<type 'tuple'>\n"
     ]
    }
   ],
   "source": [
    "a = [1,2,3,4,5]\n",
    "print(type(a))\n",
    "a = tuple(a)\n",
    "print(type(a))"
   ]
  }
 ],
 "metadata": {
  "kernelspec": {
   "display_name": "Python 2",
   "language": "python",
   "name": "python2"
  },
  "language_info": {
   "codemirror_mode": {
    "name": "ipython",
    "version": 2
   },
   "file_extension": ".py",
   "mimetype": "text/x-python",
   "name": "python",
   "nbconvert_exporter": "python",
   "pygments_lexer": "ipython2",
   "version": "2.7.11"
  }
 },
 "nbformat": 4,
 "nbformat_minor": 2
}
